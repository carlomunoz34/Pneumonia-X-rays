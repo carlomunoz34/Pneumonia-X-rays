{
 "cells": [
  {
   "cell_type": "markdown",
   "metadata": {},
   "source": [
    "# Pretrained VGG16 - Keras"
   ]
  },
  {
   "cell_type": "markdown",
   "metadata": {},
   "source": [
    "## Feature extraction "
   ]
  },
  {
   "cell_type": "markdown",
   "metadata": {},
   "source": [
    "### Imports"
   ]
  },
  {
   "cell_type": "code",
   "execution_count": 1,
   "metadata": {},
   "outputs": [],
   "source": [
    "from tensorflow.keras.models import Sequential\n",
    "from tensorflow.keras.layers import Dense, Dropout, Flatten\n",
    "from tensorflow.keras.applications import VGG16\n",
    "from tensorflow.keras.preprocessing.image import ImageDataGenerator\n",
    "\n",
    "import matplotlib.pyplot as plt"
   ]
  },
  {
   "cell_type": "markdown",
   "metadata": {},
   "source": [
    "### Compatibility issues"
   ]
  },
  {
   "cell_type": "code",
   "execution_count": 2,
   "metadata": {},
   "outputs": [],
   "source": [
    "from tensorflow.compat.v1 import ConfigProto\n",
    "from tensorflow.compat.v1 import InteractiveSession\n",
    "\n",
    "config = ConfigProto()\n",
    "config.gpu_options.allow_growth = True\n",
    "session = InteractiveSession(config=config)"
   ]
  },
  {
   "cell_type": "markdown",
   "metadata": {},
   "source": [
    "### Preprocess data"
   ]
  },
  {
   "cell_type": "code",
   "execution_count": 3,
   "metadata": {},
   "outputs": [],
   "source": [
    "train_datagen = ImageDataGenerator(\n",
    "    rescale=1./255,\n",
    "    rotation_range=40,\n",
    "    width_shift_range=0.2,\n",
    "    height_shift_range=0.2,\n",
    "    shear_range=0.2,\n",
    "    zoom_range=0.2,\n",
    "    horizontal_flip=True,\n",
    "    fill_mode='nearest'\n",
    ")\n",
    "test_datagen = ImageDataGenerator(rescale=1./255)"
   ]
  },
  {
   "cell_type": "code",
   "execution_count": 4,
   "metadata": {},
   "outputs": [],
   "source": [
    "train_dir = '/home/carlo/Documentos/Datasets/chest_xray/train'\n",
    "test_dir = '/home/carlo/Documentos/Datasets/chest_xray/test'\n",
    "val_dir = '/home/carlo/Documentos/Datasets/chest_xray/val'"
   ]
  },
  {
   "cell_type": "code",
   "execution_count": 5,
   "metadata": {},
   "outputs": [
    {
     "name": "stdout",
     "output_type": "stream",
     "text": [
      "Found 5216 images belonging to 2 classes.\n",
      "Found 624 images belonging to 2 classes.\n"
     ]
    }
   ],
   "source": [
    "IMAGE_SIZE = 150\n",
    "\n",
    "train_generator = train_datagen.flow_from_directory(\n",
    "    train_dir,\n",
    "    target_size=(IMAGE_SIZE, IMAGE_SIZE),\n",
    "    batch_size=32,\n",
    "    class_mode='binary'\n",
    ")\n",
    "\n",
    "test_generator = test_datagen.flow_from_directory(\n",
    "    test_dir,\n",
    "    target_size=(IMAGE_SIZE, IMAGE_SIZE),\n",
    "    batch_size=16,\n",
    "    class_mode='binary'\n",
    ")\n",
    "\n",
    "val_generator = test_datagen.flow_from_directory(\n",
    "    val_dir,\n",
    "    target_size=(IMAGE_SIZE, IMAGE_SIZE),\n",
    "    batch_size=16,\n",
    "    class_mode='binary'\n",
    ")"
   ]
  },
  {
   "cell_type": "markdown",
   "metadata": {},
   "source": [
    "### Import and load VGG16"
   ]
  },
  {
   "cell_type": "code",
   "execution_count": 6,
   "metadata": {},
   "outputs": [],
   "source": [
    "conv_base = VGG16(\n",
    "    weights='imagenet',\n",
    "    include_top=False, \n",
    "    input_shape=(IMAGE_SIZE, IMAGE_SIZE, 3)\n",
    ")"
   ]
  },
  {
   "cell_type": "code",
   "execution_count": 7,
   "metadata": {},
   "outputs": [
    {
     "name": "stdout",
     "output_type": "stream",
     "text": [
      "Model: \"vgg16\"\n",
      "_________________________________________________________________\n",
      "Layer (type)                 Output Shape              Param #   \n",
      "=================================================================\n",
      "input_1 (InputLayer)         [(None, 150, 150, 3)]     0         \n",
      "_________________________________________________________________\n",
      "block1_conv1 (Conv2D)        (None, 150, 150, 64)      1792      \n",
      "_________________________________________________________________\n",
      "block1_conv2 (Conv2D)        (None, 150, 150, 64)      36928     \n",
      "_________________________________________________________________\n",
      "block1_pool (MaxPooling2D)   (None, 75, 75, 64)        0         \n",
      "_________________________________________________________________\n",
      "block2_conv1 (Conv2D)        (None, 75, 75, 128)       73856     \n",
      "_________________________________________________________________\n",
      "block2_conv2 (Conv2D)        (None, 75, 75, 128)       147584    \n",
      "_________________________________________________________________\n",
      "block2_pool (MaxPooling2D)   (None, 37, 37, 128)       0         \n",
      "_________________________________________________________________\n",
      "block3_conv1 (Conv2D)        (None, 37, 37, 256)       295168    \n",
      "_________________________________________________________________\n",
      "block3_conv2 (Conv2D)        (None, 37, 37, 256)       590080    \n",
      "_________________________________________________________________\n",
      "block3_conv3 (Conv2D)        (None, 37, 37, 256)       590080    \n",
      "_________________________________________________________________\n",
      "block3_pool (MaxPooling2D)   (None, 18, 18, 256)       0         \n",
      "_________________________________________________________________\n",
      "block4_conv1 (Conv2D)        (None, 18, 18, 512)       1180160   \n",
      "_________________________________________________________________\n",
      "block4_conv2 (Conv2D)        (None, 18, 18, 512)       2359808   \n",
      "_________________________________________________________________\n",
      "block4_conv3 (Conv2D)        (None, 18, 18, 512)       2359808   \n",
      "_________________________________________________________________\n",
      "block4_pool (MaxPooling2D)   (None, 9, 9, 512)         0         \n",
      "_________________________________________________________________\n",
      "block5_conv1 (Conv2D)        (None, 9, 9, 512)         2359808   \n",
      "_________________________________________________________________\n",
      "block5_conv2 (Conv2D)        (None, 9, 9, 512)         2359808   \n",
      "_________________________________________________________________\n",
      "block5_conv3 (Conv2D)        (None, 9, 9, 512)         2359808   \n",
      "_________________________________________________________________\n",
      "block5_pool (MaxPooling2D)   (None, 4, 4, 512)         0         \n",
      "=================================================================\n",
      "Total params: 14,714,688\n",
      "Trainable params: 0\n",
      "Non-trainable params: 14,714,688\n",
      "_________________________________________________________________\n"
     ]
    }
   ],
   "source": [
    "conv_base.trainable = False\n",
    "conv_base.summary()"
   ]
  },
  {
   "cell_type": "markdown",
   "metadata": {},
   "source": [
    "### Create a top network"
   ]
  },
  {
   "cell_type": "code",
   "execution_count": 8,
   "metadata": {},
   "outputs": [],
   "source": [
    "model = Sequential()\n",
    "model.add(conv_base)"
   ]
  },
  {
   "cell_type": "code",
   "execution_count": 9,
   "metadata": {},
   "outputs": [],
   "source": [
    "model.add(Flatten())\n",
    "model.add(Dropout(0.5))\n",
    "\n",
    "model.add(Dense(4096, activation='relu'))\n",
    "model.add(Dropout(0.5))\n",
    "model.add(Dense(4096, activation='relu'))\n",
    "model.add(Dropout(0.5))\n",
    "model.add(Dense(1, activation='sigmoid'))"
   ]
  },
  {
   "cell_type": "code",
   "execution_count": 10,
   "metadata": {},
   "outputs": [
    {
     "name": "stdout",
     "output_type": "stream",
     "text": [
      "Model: \"sequential\"\n",
      "_________________________________________________________________\n",
      "Layer (type)                 Output Shape              Param #   \n",
      "=================================================================\n",
      "vgg16 (Model)                (None, 4, 4, 512)         14714688  \n",
      "_________________________________________________________________\n",
      "flatten (Flatten)            (None, 8192)              0         \n",
      "_________________________________________________________________\n",
      "dropout (Dropout)            (None, 8192)              0         \n",
      "_________________________________________________________________\n",
      "dense (Dense)                (None, 4096)              33558528  \n",
      "_________________________________________________________________\n",
      "dropout_1 (Dropout)          (None, 4096)              0         \n",
      "_________________________________________________________________\n",
      "dense_1 (Dense)              (None, 4096)              16781312  \n",
      "_________________________________________________________________\n",
      "dropout_2 (Dropout)          (None, 4096)              0         \n",
      "_________________________________________________________________\n",
      "dense_2 (Dense)              (None, 1)                 4097      \n",
      "=================================================================\n",
      "Total params: 65,058,625\n",
      "Trainable params: 50,343,937\n",
      "Non-trainable params: 14,714,688\n",
      "_________________________________________________________________\n"
     ]
    }
   ],
   "source": [
    "model.summary()"
   ]
  },
  {
   "cell_type": "markdown",
   "metadata": {},
   "source": [
    "### Compile and train"
   ]
  },
  {
   "cell_type": "code",
   "execution_count": 11,
   "metadata": {},
   "outputs": [],
   "source": [
    "from tensorflow.keras.optimizers import Adam\n",
    "opt = Adam(1e-5)\n",
    "\n",
    "model.compile(\n",
    "    optimizer=opt,\n",
    "    loss='binary_crossentropy',\n",
    "    metrics=['accuracy']\n",
    ")"
   ]
  },
  {
   "cell_type": "code",
   "execution_count": 13,
   "metadata": {},
   "outputs": [
    {
     "name": "stdout",
     "output_type": "stream",
     "text": [
      "Epoch 1/10\n",
      "163/163 [==============================] - 70s 430ms/step - loss: 0.5629 - accuracy: 0.7281 - val_loss: 0.4668 - val_accuracy: 0.8558\n",
      "Epoch 2/10\n",
      "163/163 [==============================] - 61s 374ms/step - loss: 0.4374 - accuracy: 0.7903 - val_loss: 0.3800 - val_accuracy: 0.8654\n",
      "Epoch 3/10\n",
      "163/163 [==============================] - 61s 375ms/step - loss: 0.3645 - accuracy: 0.8259 - val_loss: 0.3432 - val_accuracy: 0.8686\n",
      "Epoch 4/10\n",
      "163/163 [==============================] - 61s 376ms/step - loss: 0.3340 - accuracy: 0.8436 - val_loss: 0.3286 - val_accuracy: 0.8654\n",
      "Epoch 5/10\n",
      "163/163 [==============================] - 61s 375ms/step - loss: 0.3067 - accuracy: 0.8645 - val_loss: 0.3123 - val_accuracy: 0.8750\n",
      "Epoch 6/10\n",
      "163/163 [==============================] - 61s 374ms/step - loss: 0.2904 - accuracy: 0.8685 - val_loss: 0.3259 - val_accuracy: 0.8750\n",
      "Epoch 7/10\n",
      "163/163 [==============================] - 61s 377ms/step - loss: 0.2842 - accuracy: 0.8721 - val_loss: 0.3137 - val_accuracy: 0.8766\n",
      "Epoch 8/10\n",
      "163/163 [==============================] - 61s 376ms/step - loss: 0.2743 - accuracy: 0.8758 - val_loss: 0.3057 - val_accuracy: 0.8782\n",
      "Epoch 9/10\n",
      "163/163 [==============================] - 61s 374ms/step - loss: 0.2710 - accuracy: 0.8852 - val_loss: 0.3089 - val_accuracy: 0.8830\n",
      "Epoch 10/10\n",
      "163/163 [==============================] - 61s 374ms/step - loss: 0.2546 - accuracy: 0.8917 - val_loss: 0.2901 - val_accuracy: 0.8878\n"
     ]
    }
   ],
   "source": [
    "history = model.fit_generator(\n",
    "    train_generator,\n",
    "    steps_per_epoch=163,\n",
    "    epochs=10,\n",
    "    validation_data=val_generator,\n",
    "    validation_steps=1\n",
    ")"
   ]
  },
  {
   "cell_type": "code",
   "execution_count": 14,
   "metadata": {},
   "outputs": [],
   "source": [
    "model.save('vgg16_v1.h5')"
   ]
  },
  {
   "cell_type": "markdown",
   "metadata": {},
   "source": [
    "### Plot the results"
   ]
  },
  {
   "cell_type": "code",
   "execution_count": 15,
   "metadata": {},
   "outputs": [
    {
     "data": {
      "image/png": "[encoded data removed]",
      "text/plain": [
       "<Figure size 432x288 with 1 Axes>"
      ]
     },
     "metadata": {
      "needs_background": "light"
     },
     "output_type": "display_data"
    }
   ],
   "source": [
    "history_dict = history.history\n",
    "loss_values = history_dict['loss']\n",
    "val_loss_values = history_dict['val_loss']\n",
    "\n",
    "epochs = range(1, len(loss_values) + 1)\n",
    "\n",
    "plt.plot(epochs, loss_values, 'bo', label='Training Loss') #bo es para blue dot\n",
    "plt.plot(epochs, val_loss_values, 'b', label='Validation Loss') # b es para solid blue line\n",
    "plt.title('Training and validation loss')\n",
    "plt.xlabel('Epochs')\n",
    "plt.ylabel('Loss')\n",
    "plt.legend()\n",
    "\n",
    "plt.show()"
   ]
  },
  {
   "cell_type": "code",
   "execution_count": 16,
   "metadata": {},
   "outputs": [
    {
     "data": {
      "image/png": "[encoded data removed]",
      "text/plain": [
       "<Figure size 432x288 with 1 Axes>"
      ]
     },
     "metadata": {
      "needs_background": "light"
     },
     "output_type": "display_data"
    }
   ],
   "source": [
    "plt.clf()\n",
    "acc = history_dict['accuracy']\n",
    "val_acc = history_dict['val_accuracy']\n",
    "plt.plot(epochs, acc, 'bo', label='Training acc')\n",
    "plt.plot(epochs, val_acc, 'b', label='Validation acc')\n",
    "plt.title('Training and validation accuracy')\n",
    "plt.xlabel('Epochs')\n",
    "plt.ylabel('Accuracy')\n",
    "plt.legend()\n",
    "\n",
    "plt.show()"
   ]
  },
  {
   "cell_type": "markdown",
   "metadata": {},
   "source": [
    "## Fine tunning"
   ]
  },
  {
   "cell_type": "code",
   "execution_count": 17,
   "metadata": {},
   "outputs": [],
   "source": [
    "conv_base.trainable = True\n",
    "set_trainable = False\n",
    "for layer in conv_base.layers:\n",
    "    if layer.name == 'block5_conv1':\n",
    "        set_trainable = True\n",
    "    if set_trainable:\n",
    "        layer.trainable = True\n",
    "    else:\n",
    "        layer.trainable = False"
   ]
  },
  {
   "cell_type": "code",
   "execution_count": 18,
   "metadata": {},
   "outputs": [],
   "source": [
    "opt = Adam(1e-6)\n",
    "\n",
    "model.compile(\n",
    "    optimizer=opt,\n",
    "    loss='binary_crossentropy',\n",
    "    metrics=['accuracy']\n",
    ")"
   ]
  },
  {
   "cell_type": "code",
   "execution_count": 19,
   "metadata": {},
   "outputs": [
    {
     "name": "stdout",
     "output_type": "stream",
     "text": [
      "Epoch 1/30\n",
      "163/163 [==============================] - 65s 399ms/step - loss: 0.2515 - accuracy: 0.8930 - val_loss: 0.2900 - val_accuracy: 0.8894\n",
      "Epoch 2/30\n",
      "163/163 [==============================] - 62s 380ms/step - loss: 0.2422 - accuracy: 0.9022 - val_loss: 0.2956 - val_accuracy: 0.8814\n",
      "Epoch 3/30\n",
      "163/163 [==============================] - 61s 373ms/step - loss: 0.2268 - accuracy: 0.9086 - val_loss: 0.3065 - val_accuracy: 0.8862\n",
      "Epoch 4/30\n",
      "163/163 [==============================] - 61s 374ms/step - loss: 0.2187 - accuracy: 0.9114 - val_loss: 0.2934 - val_accuracy: 0.8910\n",
      "Epoch 5/30\n",
      "163/163 [==============================] - 61s 376ms/step - loss: 0.2144 - accuracy: 0.9112 - val_loss: 0.2873 - val_accuracy: 0.8958\n",
      "Epoch 6/30\n",
      "163/163 [==============================] - 61s 373ms/step - loss: 0.2040 - accuracy: 0.9185 - val_loss: 0.2939 - val_accuracy: 0.8926\n",
      "Epoch 7/30\n",
      "163/163 [==============================] - 61s 376ms/step - loss: 0.1866 - accuracy: 0.9262 - val_loss: 0.3229 - val_accuracy: 0.9022\n",
      "Epoch 8/30\n",
      "163/163 [==============================] - 61s 376ms/step - loss: 0.1837 - accuracy: 0.9252 - val_loss: 0.2861 - val_accuracy: 0.8990\n",
      "Epoch 9/30\n",
      "163/163 [==============================] - 61s 377ms/step - loss: 0.1941 - accuracy: 0.9235 - val_loss: 0.2813 - val_accuracy: 0.8990\n",
      "Epoch 10/30\n",
      "163/163 [==============================] - 61s 377ms/step - loss: 0.1894 - accuracy: 0.9214 - val_loss: 0.3040 - val_accuracy: 0.8974\n",
      "Epoch 11/30\n",
      "163/163 [==============================] - 61s 374ms/step - loss: 0.1827 - accuracy: 0.9310 - val_loss: 0.2994 - val_accuracy: 0.9006\n",
      "Epoch 12/30\n",
      "163/163 [==============================] - 61s 375ms/step - loss: 0.1772 - accuracy: 0.9304 - val_loss: 0.2876 - val_accuracy: 0.9022\n",
      "Epoch 13/30\n",
      "163/163 [==============================] - 61s 377ms/step - loss: 0.1756 - accuracy: 0.9275 - val_loss: 0.3121 - val_accuracy: 0.9038\n",
      "Epoch 14/30\n",
      "163/163 [==============================] - 61s 377ms/step - loss: 0.1639 - accuracy: 0.9381 - val_loss: 0.2873 - val_accuracy: 0.9022\n",
      "Epoch 15/30\n",
      "163/163 [==============================] - 61s 375ms/step - loss: 0.1673 - accuracy: 0.9379 - val_loss: 0.2801 - val_accuracy: 0.9038\n",
      "Epoch 16/30\n",
      "163/163 [==============================] - 62s 377ms/step - loss: 0.1640 - accuracy: 0.9360 - val_loss: 0.3238 - val_accuracy: 0.9022\n",
      "Epoch 17/30\n",
      "163/163 [==============================] - 61s 377ms/step - loss: 0.1684 - accuracy: 0.9360 - val_loss: 0.2895 - val_accuracy: 0.9054\n",
      "Epoch 18/30\n",
      "163/163 [==============================] - 61s 373ms/step - loss: 0.1579 - accuracy: 0.9415 - val_loss: 0.2867 - val_accuracy: 0.9071\n",
      "Epoch 19/30\n",
      "163/163 [==============================] - 62s 378ms/step - loss: 0.1562 - accuracy: 0.9400 - val_loss: 0.2653 - val_accuracy: 0.9087\n",
      "Epoch 20/30\n",
      "163/163 [==============================] - 61s 377ms/step - loss: 0.1580 - accuracy: 0.9400 - val_loss: 0.2560 - val_accuracy: 0.9151\n",
      "Epoch 21/30\n",
      "163/163 [==============================] - 61s 374ms/step - loss: 0.1578 - accuracy: 0.9373 - val_loss: 0.2666 - val_accuracy: 0.9071\n",
      "Epoch 22/30\n",
      "163/163 [==============================] - 61s 376ms/step - loss: 0.1557 - accuracy: 0.9371 - val_loss: 0.3059 - val_accuracy: 0.9006\n",
      "Epoch 23/30\n",
      "163/163 [==============================] - 61s 377ms/step - loss: 0.1439 - accuracy: 0.9433 - val_loss: 0.2623 - val_accuracy: 0.9103\n",
      "Epoch 24/30\n",
      "163/163 [==============================] - 61s 376ms/step - loss: 0.1499 - accuracy: 0.9438 - val_loss: 0.2537 - val_accuracy: 0.9135\n",
      "Epoch 25/30\n",
      "163/163 [==============================] - 61s 375ms/step - loss: 0.1433 - accuracy: 0.9448 - val_loss: 0.2837 - val_accuracy: 0.9071\n",
      "Epoch 26/30\n",
      "163/163 [==============================] - 61s 374ms/step - loss: 0.1527 - accuracy: 0.9417 - val_loss: 0.2513 - val_accuracy: 0.9183\n",
      "Epoch 27/30\n",
      "163/163 [==============================] - 61s 375ms/step - loss: 0.1468 - accuracy: 0.9433 - val_loss: 0.2652 - val_accuracy: 0.9119\n",
      "Epoch 28/30\n",
      "163/163 [==============================] - 62s 379ms/step - loss: 0.1356 - accuracy: 0.9484 - val_loss: 0.2795 - val_accuracy: 0.9087\n",
      "Epoch 29/30\n",
      "163/163 [==============================] - 61s 376ms/step - loss: 0.1396 - accuracy: 0.9456 - val_loss: 0.2551 - val_accuracy: 0.9151\n",
      "Epoch 30/30\n",
      "163/163 [==============================] - 62s 380ms/step - loss: 0.1466 - accuracy: 0.9457 - val_loss: 0.3101 - val_accuracy: 0.9006\n"
     ]
    }
   ],
   "source": [
    "history = model.fit_generator(\n",
    "    train_generator,\n",
    "    steps_per_epoch=163,\n",
    "    epochs=30,\n",
    "    validation_data=test_generator,\n",
    "    validation_steps=39\n",
    ")"
   ]
  },
  {
   "cell_type": "code",
   "execution_count": 20,
   "metadata": {},
   "outputs": [],
   "source": [
    "model.save('vgg16_v2.h5')"
   ]
  },
  {
   "cell_type": "markdown",
   "metadata": {},
   "source": [
    "### Plot the results"
   ]
  },
  {
   "cell_type": "code",
   "execution_count": 21,
   "metadata": {},
   "outputs": [
    {
     "data": {
      "image/png": "[encoded data removed]",
      "text/plain": [
       "<Figure size 432x288 with 1 Axes>"
      ]
     },
     "metadata": {
      "needs_background": "light"
     },
     "output_type": "display_data"
    }
   ],
   "source": [
    "history_dict = history.history\n",
    "loss_values = history_dict['loss']\n",
    "val_loss_values = history_dict['val_loss']\n",
    "\n",
    "epochs = range(1, len(loss_values) + 1)\n",
    "\n",
    "plt.plot(epochs, loss_values, 'bo', label='Training Loss') #bo es para blue dot\n",
    "plt.plot(epochs, val_loss_values, 'b', label='Validation Loss') # b es para solid blue line\n",
    "plt.title('Training and validation loss')\n",
    "plt.xlabel('Epochs')\n",
    "plt.ylabel('Loss')\n",
    "plt.legend()\n",
    "\n",
    "plt.show()"
   ]
  },
  {
   "cell_type": "code",
   "execution_count": 22,
   "metadata": {},
   "outputs": [
    {
     "data": {
      "image/png": "[encoded data removed]",
      "text/plain": [
       "<Figure size 432x288 with 1 Axes>"
      ]
     },
     "metadata": {
      "needs_background": "light"
     },
     "output_type": "display_data"
    }
   ],
   "source": [
    "plt.clf()\n",
    "acc = history_dict['accuracy']\n",
    "val_acc = history_dict['val_accuracy']\n",
    "plt.plot(epochs, acc, 'bo', label='Training acc')\n",
    "plt.plot(epochs, val_acc, 'b', label='Validation acc')\n",
    "plt.title('Training and validation accuracy')\n",
    "plt.xlabel('Epochs')\n",
    "plt.ylabel('Accuracy')\n",
    "plt.legend()\n",
    "\n",
    "plt.show()"
   ]
  },
  {
   "cell_type": "markdown",
   "metadata": {},
   "source": [
    "## Final test"
   ]
  },
  {
   "cell_type": "raw",
   "metadata": {},
   "source": []
  }
 ],
 "metadata": {
  "kernelspec": {
   "display_name": "Python 3",
   "language": "python",
   "name": "python3"
  },
  "language_info": {
   "codemirror_mode": {
    "name": "ipython",
    "version": 3
   },
   "file_extension": ".py",
   "mimetype": "text/x-python",
   "name": "python",
   "nbconvert_exporter": "python",
   "pygments_lexer": "ipython3",
   "version": "3.7.5"
  }
 },
 "nbformat": 4,
 "nbformat_minor": 2
}
